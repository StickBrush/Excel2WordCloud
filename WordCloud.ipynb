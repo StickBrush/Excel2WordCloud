{
  "nbformat": 4,
  "nbformat_minor": 0,
  "metadata": {
    "colab": {
      "provenance": [],
      "authorship_tag": "ABX9TyPu5P+h6KDkQwtii7J55WBY",
      "include_colab_link": true
    },
    "kernelspec": {
      "name": "python3",
      "display_name": "Python 3"
    },
    "language_info": {
      "name": "python"
    }
  },
  "cells": [
    {
      "cell_type": "markdown",
      "metadata": {
        "id": "view-in-github",
        "colab_type": "text"
      },
      "source": [
        "<a href=\"https://colab.research.google.com/github/StickBrush/Excel2WordCloud/blob/main/WordCloud.ipynb\" target=\"_parent\"><img src=\"https://colab.research.google.com/assets/colab-badge.svg\" alt=\"Open In Colab\"/></a>"
      ]
    },
    {
      "cell_type": "markdown",
      "source": [
        "# Creating Word Clouds from frequency Excel files"
      ],
      "metadata": {
        "id": "r5SEt0QZHHiK"
      }
    },
    {
      "cell_type": "markdown",
      "source": [
        "## Step 1: Install and load the needed libraries\n",
        "\n",
        "- `matplotlib`: \"Mathematic Plotting Library\". It's a Python library to make plots and graphics. After calculating the word cloud, we use `matplotlib` to show and save the image.\n",
        "- `pandas`: Data manipulation and tables library. It can read data from a bunch of formats (CSV, Excel, databases, or even your clipboard) and do all kinds of transformations with it (like asking for rows that meet a certain condition, change rows-columns, operate with rows and columns to generate new ones, and helps with plotting too making it easier to use `matplotlib`).\n",
        "- `wordcloud`: A library that makes wordclouds from the data we give it. Here's [the documentation](http://amueller.github.io/word_cloud/generated/wordcloud.WordCloud.html#wordcloud.WordCloud) of the library, as well as [some cool examples](http://amueller.github.io/word_cloud/auto_examples/index.html)."
      ],
      "metadata": {
        "id": "wJ7TneYWHQIo"
      }
    },
    {
      "cell_type": "code",
      "execution_count": null,
      "metadata": {
        "id": "XOSM7LCNDSlN"
      },
      "outputs": [],
      "source": [
        "!pip install matplotlib pandas wordcloud"
      ]
    },
    {
      "cell_type": "code",
      "source": [
        "from wordcloud import WordCloud\n",
        "import matplotlib.pyplot as plt\n",
        "import pandas as pd\n",
        "import glob\n",
        "import os"
      ],
      "metadata": {
        "id": "0TG7b2vDD8FR"
      },
      "execution_count": null,
      "outputs": []
    },
    {
      "cell_type": "markdown",
      "source": [
        "## Step 2: Load the dataset\n",
        "\n",
        "In summary, we will just load up each Excel file with Pandas, giving the columns their proper names.\n"
      ],
      "metadata": {
        "id": "0GuI3fzcH_m1"
      }
    },
    {
      "cell_type": "code",
      "source": [
        "all_files = glob.glob(os.path.join(\"data\", \"*.xlsx\"))\n",
        "all_dataframes = {os.path.splitext(os.path.basename(file_r))[0]: pd.read_excel(file_r,  names=[\"Term\", \"Frequency\"]) for file_r in all_files}"
      ],
      "metadata": {
        "id": "BAB1y2qqIBFq"
      },
      "execution_count": null,
      "outputs": []
    },
    {
      "cell_type": "markdown",
      "source": [
        "## Step 3: Create and save a word cloud for each file\n",
        "\n",
        "I will be using the Calibri font for this. Each word cloud will have a 720p resolution, and will be saved as a PNG image.\n",
        "\n",
        "\n"
      ],
      "metadata": {
        "id": "6ty7wRyGaroC"
      }
    },
    {
      "cell_type": "code",
      "source": [
        "for og_filename in all_dataframes:\n",
        "  wordcloud_df = all_dataframes[og_filename]\n",
        "  wordcloud_data = wordcloud_df.set_index('Term').to_dict()['Frequency']\n",
        "  wordcloud = WordCloud(width=1280, height=720, background_color ='white', font_path='calibri.ttf').generate_from_frequencies(wordcloud_data)\n",
        "  plt.figure(figsize=(16, 9), facecolor=None)\n",
        "  plt.imshow(wordcloud)\n",
        "  plt.axis(\"off\")\n",
        "  plt.tight_layout(pad = 0)\n",
        "\n",
        "  out_file = os.path.join(\"plots\", og_filename+'.png')\n",
        "  plt.savefig(out_file, format='png', bbox_inches='tight')\n",
        "\n",
        "  print(og_filename)\n",
        "  plt.show()"
      ],
      "metadata": {
        "id": "j4NQw5mra16Q"
      },
      "execution_count": null,
      "outputs": []
    },
    {
      "cell_type": "markdown",
      "source": [
        "## Step 4: Compress the plots into a ZIP file"
      ],
      "metadata": {
        "id": "CGdsnUrAHEy0"
      }
    },
    {
      "cell_type": "code",
      "source": [
        "!zip -r plots.zip plots"
      ],
      "metadata": {
        "id": "A_DNOKnEHEQA"
      },
      "execution_count": null,
      "outputs": []
    }
  ]
}